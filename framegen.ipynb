{
 "cells": [
  {
   "cell_type": "code",
   "execution_count": 1,
   "metadata": {},
   "outputs": [
    {
     "name": "stdout",
     "output_type": "stream",
     "text": [
      "Defaulting to user installation because normal site-packages is not writeable\n",
      "Requirement already satisfied: opencv-python in /home/jaeung/.local/lib/python3.10/site-packages (4.10.0.84)\n",
      "Requirement already satisfied: numpy>=1.21.2 in /home/jaeung/.local/lib/python3.10/site-packages (from opencv-python) (1.26.4)\n",
      "\n",
      "\u001b[1m[\u001b[0m\u001b[34;49mnotice\u001b[0m\u001b[1;39;49m]\u001b[0m\u001b[39;49m A new release of pip is available: \u001b[0m\u001b[31;49m24.0\u001b[0m\u001b[39;49m -> \u001b[0m\u001b[32;49m24.1.1\u001b[0m\n",
      "\u001b[1m[\u001b[0m\u001b[34;49mnotice\u001b[0m\u001b[1;39;49m]\u001b[0m\u001b[39;49m To update, run: \u001b[0m\u001b[32;49mpip install --upgrade pip\u001b[0m\n",
      "Note: you may need to restart the kernel to use updated packages.\n"
     ]
    }
   ],
   "source": [
    "pip install opencv-python\n"
   ]
  },
  {
   "cell_type": "code",
   "execution_count": 11,
   "metadata": {},
   "outputs": [
    {
     "name": "stdout",
     "output_type": "stream",
     "text": [
      "Extracted 278 frames to 'output_frames_blur'.\n"
     ]
    }
   ],
   "source": [
    "import cv2\n",
    "import os\n",
    "\n",
    "def extract_frames(video_path, output_folder):\n",
    "    # 비디오 파일 읽기\n",
    "    cap = cv2.VideoCapture(video_path)\n",
    "    \n",
    "    # 비디오 파일이 제대로 열렸는지 확인\n",
    "    if not cap.isOpened():\n",
    "        print(\"Error: Could not open video.\")\n",
    "        return\n",
    "    \n",
    "    # 출력 폴더가 없으면 생성\n",
    "    if not os.path.exists(output_folder):\n",
    "        os.makedirs(output_folder)\n",
    "    \n",
    "    frame_count = 0\n",
    "    while True:\n",
    "        ret, frame = cap.read()\n",
    "        \n",
    "        # 더 이상 읽을 프레임이 없으면 종료\n",
    "        if not ret:\n",
    "            break\n",
    "        \n",
    "        # 프레임 저장\n",
    "        frame_filename = os.path.join(output_folder, f\"frame_{frame_count:04d}.jpg\")\n",
    "        cv2.imwrite(frame_filename, frame)\n",
    "        \n",
    "        frame_count += 1\n",
    "    \n",
    "    # 비디오 캡처 객체 해제\n",
    "    cap.release()\n",
    "    print(f\"Extracted {frame_count} frames to '{output_folder}'.\")\n",
    "\n",
    "# 사용 예시\n",
    "video_path = '/home/jaeung/deepdaiv/2_blurred.mp4'\n",
    "output_folder = 'output_frames_blur'\n",
    "extract_frames(video_path, output_folder)\n"
   ]
  },
  {
   "cell_type": "code",
   "execution_count": 14,
   "metadata": {},
   "outputs": [
    {
     "name": "stdout",
     "output_type": "stream",
     "text": [
      "Error: Could not open or find the image.\n"
     ]
    },
    {
     "name": "stderr",
     "output_type": "stream",
     "text": [
      "[ WARN:0@17571.647] global loadsave.cpp:241 findDecoder imread_('/home/jaeung/deepdaiv/bird_before.jpg'): can't open/read file: check file path/integrity\n"
     ]
    }
   ],
   "source": [
    "import cv2\n",
    "\n",
    "def apply_gaussian_blur(input_image_path, output_image_path, kernel_size=(3, 3)):\n",
    "    # 이미지 파일 읽기\n",
    "    image = cv2.imread(input_image_path)\n",
    "    \n",
    "    # 이미지가 제대로 읽혔는지 확인\n",
    "    if image is None:\n",
    "        print(\"Error: Could not open or find the image.\")\n",
    "        return\n",
    "    \n",
    "    # 가우시안 블러 적용\n",
    "    blurred_image = cv2.GaussianBlur(image, kernel_size, 0)\n",
    "    \n",
    "    # 블러 처리된 이미지 저장\n",
    "    cv2.imwrite(output_image_path, blurred_image)\n",
    "    print(f\"Blurred image saved as {output_image_path}\")\n",
    "\n",
    "# 사용 예시\n",
    "input_image_path = '/home/jaeung/deepdaiv/bird_before.png'\n",
    "output_image_path = 'blurred_image.jpg'\n",
    "apply_gaussian_blur(input_image_path, output_image_path)\n"
   ]
  }
 ],
 "metadata": {
  "kernelspec": {
   "display_name": "Python 3",
   "language": "python",
   "name": "python3"
  },
  "language_info": {
   "codemirror_mode": {
    "name": "ipython",
    "version": 3
   },
   "file_extension": ".py",
   "mimetype": "text/x-python",
   "name": "python",
   "nbconvert_exporter": "python",
   "pygments_lexer": "ipython3",
   "version": "3.10.14"
  }
 },
 "nbformat": 4,
 "nbformat_minor": 2
}
